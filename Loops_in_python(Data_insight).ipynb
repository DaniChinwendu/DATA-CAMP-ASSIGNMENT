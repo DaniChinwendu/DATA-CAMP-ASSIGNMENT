{
  "nbformat": 4,
  "nbformat_minor": 0,
  "metadata": {
    "colab": {
      "name": "Loops in python(Data insight).ipynb",
      "provenance": [],
      "authorship_tag": "ABX9TyPx2f/I6w/Pm+45VhvlSgRf",
      "include_colab_link": true
    },
    "kernelspec": {
      "name": "python3",
      "display_name": "Python 3"
    },
    "language_info": {
      "name": "python"
    }
  },
  "cells": [
    {
      "cell_type": "markdown",
      "metadata": {
        "id": "view-in-github",
        "colab_type": "text"
      },
      "source": [
        "<a href=\"https://colab.research.google.com/github/DaniChinwendu/DATA-CAMP-ASSIGNMENT/blob/main/Loops_in_python(Data_insight).ipynb\" target=\"_parent\"><img src=\"https://colab.research.google.com/assets/colab-badge.svg\" alt=\"Open In Colab\"/></a>"
      ]
    },
    {
      "cell_type": "markdown",
      "source": [
        "For loops are very powerful tools in python and there are very essential for data science. In this tutorial we are going to perform on a list in order to understand how for loops work in general."
      ],
      "metadata": {
        "id": "fJKxgr5RVFT7"
      }
    },
    {
      "cell_type": "code",
      "source": [
        "\n",
        "#Here we created a list we can iterate over using for loops.\n",
        "List=[1,2,3,5,6,9,12,16,11,4,8,10,15]"
      ],
      "metadata": {
        "id": "YFlrC7LhVlvp"
      },
      "execution_count": null,
      "outputs": []
    },
    {
      "cell_type": "markdown",
      "source": [
        "Using for looks we can iterate over the list created above and also perform an action with everyone of them."
      ],
      "metadata": {
        "id": "NFhzNcPZWXQS"
      }
    },
    {
      "cell_type": "code",
      "source": [
        "#using the for loop statement we can access every item in the list\n",
        "for nums in List:\n",
        "    print(nums)\n",
        "    \n",
        "#Using for loops we can print out all the number in the list"
      ],
      "metadata": {
        "colab": {
          "base_uri": "https://localhost:8080/"
        },
        "id": "2ZFZCZxrWp_Y",
        "outputId": "0c638268-9eff-4923-d5fe-83f6cb597f91"
      },
      "execution_count": null,
      "outputs": [
        {
          "output_type": "stream",
          "name": "stdout",
          "text": [
            "1\n",
            "2\n",
            "3\n",
            "5\n",
            "6\n",
            "9\n",
            "12\n",
            "16\n",
            "11\n",
            "4\n",
            "8\n",
            "10\n",
            "15\n"
          ]
        }
      ]
    },
    {
      "cell_type": "markdown",
      "source": [
        "We can even perform simple arithematic action with the item in the list and that's what makes for loop really exciting."
      ],
      "metadata": {
        "id": "ykO0bSFdXKpD"
      }
    },
    {
      "cell_type": "code",
      "source": [
        "9#We can multiply and  every item in the list by two\n",
        "#but this expression has to be in the loop.\n",
        "for nums in List:\n",
        "    print(nums*2)"
      ],
      "metadata": {
        "colab": {
          "base_uri": "https://localhost:8080/"
        },
        "id": "MPuWkpqEXcKs",
        "outputId": "d75b42f7-df34-4f70-8710-01b3bb8ce388"
      },
      "execution_count": null,
      "outputs": [
        {
          "output_type": "stream",
          "name": "stdout",
          "text": [
            "2\n",
            "4\n",
            "6\n",
            "10\n",
            "12\n",
            "18\n",
            "24\n",
            "32\n",
            "22\n",
            "8\n",
            "16\n",
            "20\n",
            "30\n"
          ]
        }
      ]
    },
    {
      "cell_type": "code",
      "source": [
        "for nums in List:\n",
        " #Here we tried dividing every item in the list by two   \n",
        "    print(nums/2)"
      ],
      "metadata": {
        "colab": {
          "base_uri": "https://localhost:8080/"
        },
        "id": "Xu3rRz5CY_E8",
        "outputId": "a294ef6c-29fe-475b-8622-1b1b38330b68"
      },
      "execution_count": null,
      "outputs": [
        {
          "output_type": "stream",
          "name": "stdout",
          "text": [
            "0.5\n",
            "1.0\n",
            "1.5\n",
            "2.5\n",
            "3.0\n",
            "4.5\n",
            "6.0\n",
            "8.0\n",
            "5.5\n",
            "2.0\n",
            "4.0\n",
            "5.0\n",
            "7.5\n"
          ]
        }
      ]
    }
  ]
}