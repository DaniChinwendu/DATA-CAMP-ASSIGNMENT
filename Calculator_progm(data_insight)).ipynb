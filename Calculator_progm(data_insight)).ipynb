{
  "nbformat": 4,
  "nbformat_minor": 0,
  "metadata": {
    "colab": {
      "name": "Calculator progm(data insight))",
      "provenance": [],
      "collapsed_sections": [],
      "authorship_tag": "ABX9TyMLRWCwFlyEWm2xXkmWo51Q",
      "include_colab_link": true
    },
    "kernelspec": {
      "name": "python3",
      "display_name": "Python 3"
    },
    "language_info": {
      "name": "python"
    }
  },
  "cells": [
    {
      "cell_type": "markdown",
      "metadata": {
        "id": "view-in-github",
        "colab_type": "text"
      },
      "source": [
        "<a href=\"https://colab.research.google.com/github/DaniChinwendu/DATA-CAMP-ASSIGNMENT/blob/main/Calculator_progm(data_insight)).ipynb\" target=\"_parent\"><img src=\"https://colab.research.google.com/assets/colab-badge.svg\" alt=\"Open In Colab\"/></a>"
      ]
    },
    {
      "cell_type": "markdown",
      "source": [
        "Python is a very powerful language that is used for almost and Virtually everything. it used in building webapp, data science, machine learning and Artificial intelligence to even game development. In this tutorial we are going to learn how to write a simple arithematic calculator program with python using the basic python concepts we have talked about."
      ],
      "metadata": {
        "id": "6HvKiTGK1T8G"
      }
    },
    {
      "cell_type": "markdown",
      "source": [
        "Python is used in developing highly professional and complex program using the basic concept. However this tutorial will help us understand how to apply this concepts on our own.\n",
        "Writing this program we are going to use functions, variables and if statements."
      ],
      "metadata": {
        "id": "Jxjr5mjs17VJ"
      }
    },
    {
      "cell_type": "markdown",
      "source": [
        "First we define our functions for the operation in our arithematic calculator."
      ],
      "metadata": {
        "id": "NQjNn43H2wUb"
      }
    },
    {
      "cell_type": "code",
      "source": [
        "#Define function\n",
        "#This functions performs the Addition operation.\n",
        "def add(x,y):\n",
        "    return x+y\n",
        "#this function performs the subtraction operation\n",
        "def subtract(x,y):\n",
        "    return x-y\n",
        "#this function perform multiplication operation\n",
        "def multiply(x,y):\n",
        "    return(x*y)\n",
        "#this function performs the division operation\n",
        "def divide (x,y):\n",
        "    return(x/y)"
      ],
      "metadata": {
        "id": "ROMf_5WW26vM"
      },
      "execution_count": null,
      "outputs": []
    },
    {
      "cell_type": "markdown",
      "source": [
        "Next, we define our input variables. This will help us out in the numbers or range of numbers we want to perform an Arithmetic operation on."
      ],
      "metadata": {
        "id": "IyS0MAvI4Q7t"
      }
    },
    {
      "cell_type": "code",
      "source": [
        "#Define variable\n",
        "num1=float(input('please input a number: '))\n",
        "num2=float(input('please input a number: '))"
      ],
      "metadata": {
        "id": "Gtitt66P4ikb",
        "colab": {
          "base_uri": "https://localhost:8080/"
        },
        "outputId": "0eb3eaef-9cd6-477a-c0e8-cfefde0ca9c1"
      },
      "execution_count": null,
      "outputs": [
        {
          "name": "stdout",
          "output_type": "stream",
          "text": [
            "please input a number: 4\n",
            "please input a number: 4\n"
          ]
        }
      ]
    },
    {
      "cell_type": "markdown",
      "source": [
        "We will create a key to call the difference kind of operation when we need them. This helps make our simple arithematic calculator quite advanced 😊"
      ],
      "metadata": {
        "id": "22jZnQKw5nLn"
      }
    },
    {
      "cell_type": "code",
      "source": [
        "#the yes are numbers that represents the different arithematic operation in our calculator\n",
        "print('please select a simple operation from 1- 4 ')\n",
        "print('1 Add')\n",
        "print('2 subtract')\n",
        "print('3 multiply')\n",
        "print('4 divide')"
      ],
      "metadata": {
        "id": "8TD5nQae523Q",
        "colab": {
          "base_uri": "https://localhost:8080/"
        },
        "outputId": "34be1d1c-df39-40be-cba7-23f230a7f8e3"
      },
      "execution_count": null,
      "outputs": [
        {
          "output_type": "stream",
          "name": "stdout",
          "text": [
            "please select a simple operation from 1- 4 \n",
            "1 Add\n",
            "2 subtract\n",
            "3 multiply\n",
            "4 divide\n"
          ]
        }
      ]
    },
    {
      "cell_type": "markdown",
      "source": [
        "We are now going to create a variable called operation to help us input the type of operation we want to perform using the keys we created."
      ],
      "metadata": {
        "id": "3CYX3U6L62oc"
      }
    },
    {
      "cell_type": "code",
      "source": [
        "Operation=input('please select an operation from the keys above: ')"
      ],
      "metadata": {
        "id": "vR0UVVp67G7y",
        "colab": {
          "base_uri": "https://localhost:8080/"
        },
        "outputId": "071751ca-988d-499c-959f-f5444a5f8d89"
      },
      "execution_count": null,
      "outputs": [
        {
          "name": "stdout",
          "output_type": "stream",
          "text": [
            "please select an operation from the keys above: 1\n"
          ]
        }
      ]
    },
    {
      "cell_type": "code",
      "source": [
        "if Operation in ('1','2','3','4'):\n",
        "   if Operation=='1':\n",
        "      print(num2,'+',num2,'=',add(num1,num2))\n",
        "   if Operation=='2':\n",
        "      print(num1,'-',num2,'=', subtract(num1,num2))\n",
        "   if Operation =='3':\n",
        "      print(num1,'*', num2,'=', multiply(num1,num2))\n",
        "   if Operation =='4':    \n",
        "      print(num1,'/',num2,'=',divide(num1,num2))"
      ],
      "metadata": {
        "id": "nLc9w76G7iw1",
        "colab": {
          "base_uri": "https://localhost:8080/"
        },
        "outputId": "0cfe6fe1-36b9-4059-b593-8c022fe682a1"
      },
      "execution_count": null,
      "outputs": [
        {
          "output_type": "stream",
          "name": "stdout",
          "text": [
            "4.0 + 4.0 = 8.0\n"
          ]
        }
      ]
    },
    {
      "cell_type": "code",
      "source": [
        ""
      ],
      "metadata": {
        "id": "4PHtO8Hm88Gw"
      },
      "execution_count": null,
      "outputs": []
    }
  ]
}