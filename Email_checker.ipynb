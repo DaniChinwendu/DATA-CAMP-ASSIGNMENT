{
  "nbformat": 4,
  "nbformat_minor": 0,
  "metadata": {
    "colab": {
      "name": "Email checker",
      "provenance": [],
      "authorship_tag": "ABX9TyM2xz2bwFPuCun60i7OVv+U",
      "include_colab_link": true
    },
    "kernelspec": {
      "name": "python3",
      "display_name": "Python 3"
    },
    "language_info": {
      "name": "python"
    }
  },
  "cells": [
    {
      "cell_type": "markdown",
      "metadata": {
        "id": "view-in-github",
        "colab_type": "text"
      },
      "source": [
        "<a href=\"https://colab.research.google.com/github/DaniChinwendu/DATA-CAMP-ASSIGNMENT/blob/main/Email_checker.ipynb\" target=\"_parent\"><img src=\"https://colab.research.google.com/assets/colab-badge.svg\" alt=\"Open In Colab\"/></a>"
      ]
    },
    {
      "cell_type": "code",
      "execution_count": null,
      "metadata": {
        "id": "o3nWreWfFkzx"
      },
      "outputs": [],
      "source": [
        "#in this tutorial we are going to write a simple program used in validating an email\n",
        "#First we import re module which helps with provides support for regular expression\n",
        "import re"
      ]
    },
    {
      "cell_type": "code",
      "source": [
        "#next we make a regular expression for validating an email\n",
        "regex=r'\\b[A-Za-z0-9._%+-]+@[A-Za-z0-9.-]+\\.[A-Z|a-z]{2,}\\b'"
      ],
      "metadata": {
        "id": "F8FNfPOZGTqL"
      },
      "execution_count": null,
      "outputs": []
    },
    {
      "cell_type": "code",
      "source": [
        "#Define a function for email checking\n",
        "def Check(email):\n",
        "    #we pass a regular expression and the email into the full match method()\n",
        "    if(re.fullmatch(regex,email)):\n",
        "        print('Valid email')\n",
        "    else:\n",
        "        print ('Invalid email')"
      ],
      "metadata": {
        "id": "9-9m35qrHKKZ"
      },
      "execution_count": null,
      "outputs": []
    },
    {
      "cell_type": "code",
      "source": [
        "#checking a program\n",
        "email='Ukaegbudaniel33@gmail.com'\n",
        "Check(email)"
      ],
      "metadata": {
        "colab": {
          "base_uri": "https://localhost:8080/"
        },
        "id": "b-13aJMiIWww",
        "outputId": "8b368d1c-4d30-4588-e495-254a2b3042dc"
      },
      "execution_count": null,
      "outputs": [
        {
          "output_type": "stream",
          "name": "stdout",
          "text": [
            "Valid email\n"
          ]
        }
      ]
    }
  ]
}